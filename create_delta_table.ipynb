{
 "cells": [
  {
   "cell_type": "code",
   "execution_count": null,
   "metadata": {},
   "outputs": [],
   "source": [
    "# Create Delta Table ..\n",
    "%sql\n",
    "create or replace table employee_demo (\n",
    "emp_id INT,\n",
    "emp_name string,\n",
    "gender string,\n",
    "salary int,\n",
    "dept string\n",
    ")\n",
    "using delta\n",
    "location '/mnt/datalake/delta/employee_demo'"
   ]
  }
 ],
 "metadata": {
  "language_info": {
   "name": "python"
  },
  "orig_nbformat": 4
 },
 "nbformat": 4,
 "nbformat_minor": 2
}
