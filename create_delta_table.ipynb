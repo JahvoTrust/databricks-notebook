{
 "cells": [
  {
   "cell_type": "code",
   "execution_count": 0,
   "metadata": {
    "application/vnd.databricks.v1+cell": {
     "cellMetadata": {},
     "inputWidgets": {},
     "nuid": "ad03544a-333a-4d0f-b1f0-00d5d1a7de12",
     "showTitle": false,
     "title": ""
    }
   },
   "outputs": [],
   "source": [
    "# Create Delta Table ...\n",
    "%sql\n",
    "create or replace table employee_demo (\n",
    "emp_id INT,\n",
    "emp_name string,\n",
    "gender string,\n",
    "salary int,\n",
    "dept string\n",
    ")\n",
    "using delta\n",
    "location '/mnt/datalake/delta/employee_demo'"
   ]
  }
 ],
 "metadata": {
  "application/vnd.databricks.v1+notebook": {
   "dashboards": [],
   "environmentMetadata": null,
   "language": "python",
   "notebookMetadata": {
    "pythonIndentUnit": 4
   },
   "notebookName": "create_delta_table",
   "widgets": {}
  },
  "language_info": {
   "name": "python"
  },
  "orig_nbformat": 4
 },
 "nbformat": 4,
 "nbformat_minor": 0
}
